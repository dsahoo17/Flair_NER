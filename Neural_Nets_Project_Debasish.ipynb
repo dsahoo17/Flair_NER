{
 "cells": [
  {
   "cell_type": "markdown",
   "metadata": {},
   "source": [
    "# Gesture Recognition\n",
    "In this group project, you are going to build a 3D Conv model that will be able to predict the 5 gestures correctly. Please import the following libraries to get started."
   ]
  },
  {
   "cell_type": "code",
   "execution_count": 1,
   "metadata": {},
   "outputs": [],
   "source": [
    "import numpy as np\n",
    "import os\n",
    "from scipy.misc import imread, imresize\n",
    "import datetime\n",
    "import os"
   ]
  },
  {
   "cell_type": "markdown",
   "metadata": {},
   "source": [
    "We set the random seed so that the results don't vary drastically."
   ]
  },
  {
   "cell_type": "code",
   "execution_count": 2,
   "metadata": {},
   "outputs": [
    {
     "name": "stderr",
     "output_type": "stream",
     "text": [
      "Using TensorFlow backend.\n"
     ]
    }
   ],
   "source": [
    "np.random.seed(30)\n",
    "import random as rn\n",
    "rn.seed(30)\n",
    "from keras import backend as K\n",
    "import tensorflow as tf\n",
    "tf.set_random_seed(30)"
   ]
  },
  {
   "cell_type": "markdown",
   "metadata": {},
   "source": [
    "In this block, you read the folder names for training and validation. You also set the `batch_size` here. Note that you set the batch size in such a way that you are able to use the GPU in full capacity. You keep increasing the batch size until the machine throws an error."
   ]
  },
  {
   "cell_type": "code",
   "execution_count": 3,
   "metadata": {},
   "outputs": [],
   "source": [
    "train_doc = np.random.permutation(open('./Project_data/train.csv').readlines())\n",
    "val_doc = np.random.permutation(open('./Project_data/val.csv').readlines())\n",
    "batch_size = 32 #experiment with the batch size"
   ]
  },
  {
   "cell_type": "markdown",
   "metadata": {},
   "source": [
    "## Generator\n",
    "This is one of the most important part of the code. The overall structure of the generator has been given. In the generator, you are going to preprocess the images as you have images of 2 different dimensions as well as create a batch of video frames. You have to experiment with `img_idx`, `y`,`z` and normalization such that you get high accuracy."
   ]
  },
  {
   "cell_type": "code",
   "execution_count": 4,
   "metadata": {},
   "outputs": [],
   "source": [
    "img_row,img_col = 120,120\n",
    "img_idx = [n for n in range(0, 30, 2)] #create a list of image numbers you want to use for a particular video\n",
    "x = len(img_idx) \n",
    "y, z = img_row, img_col"
   ]
  },
  {
   "cell_type": "code",
   "execution_count": 5,
   "metadata": {},
   "outputs": [
    {
     "name": "stdout",
     "output_type": "stream",
     "text": [
      "[0, 2, 4, 6, 8, 10, 12, 14, 16, 18, 20, 22, 24, 26, 28]\n"
     ]
    }
   ],
   "source": [
    "print(img_idx)"
   ]
  },
  {
   "cell_type": "code",
   "execution_count": 6,
   "metadata": {},
   "outputs": [],
   "source": [
    "def generator(source_path, folder_list, batch_size):\n",
    "    while True:\n",
    "        t = np.random.permutation(folder_list)\n",
    "        num_batches = len(folder_list)//batch_size #number of batches\n",
    "        for batch in range(num_batches): # iterate over the number of batches\n",
    "            batch_data = np.zeros((batch_size,x,y,z,3)) # x is the number of images you use for each video, (y,z) is the final size of the input images and 3 is the number of channels RGB\n",
    "            batch_labels = np.zeros((batch_size,5)) # batch_labels is the one hot representation of the output\n",
    "            for folder in range(batch_size): # iterate over the batch_size\n",
    "                imgs = os.listdir(source_path+'/'+ t[folder + (batch*batch_size)].split(';')[0]) # read all the images in the folder\n",
    "                for idx,item in enumerate(img_idx): #  Iterate iver the frames/images of a folder to read them in\n",
    "                    image = imread(source_path+'/'+ t[folder + (batch*batch_size)].strip().split(';')[0]+'/'+imgs[item]).astype(np.float32)\n",
    "    \n",
    "                    #image = image.resize(250,250) ##resize\n",
    "                    # crop the images and resize them. Note that the images are of 2 different shape \n",
    "                    # and the conv3D will throw error if the inputs in a batch have different shapes\n",
    "                    no_rows,no_cols,no_chs=image.shape\n",
    "                    if (no_rows == 120 and no_cols == 160) or (no_rows == 360 and no_cols == 360):\n",
    "                        if no_rows == 120 and no_cols == 160:\n",
    "                            image = image[0:120,20:140]\n",
    "                        elif no_rows == 360 and no_cols == 360:\n",
    "                            image = imresize(image,(120,120))\n",
    "#                     print(\"image:\",len(image))\n",
    "#                     batch_data = np.zeros((batch_size,x,y,z,3)) # x is the number of images you use for each video, (y,z) is the final size of the input images and 3 is the number of channels RGB\n",
    "                    batch_data[folder,idx,:,:,0] = image[:, : , 0]/255#(image - np.min(image))/(np.max(image)-np.min(image))#normalise and feed in the image\n",
    "                    batch_data[folder,idx,:,:,1] = image[:, : , 1]/255#(image - np.min(image))/(np.max(image)-np.min(image))#normalise and feed in the image\n",
    "                    batch_data[folder,idx,:,:,2] = image[:, : , 2]/255#(image - np.min(image))/(np.max(image)-np.min(image))#normalise and feed in the image\n",
    "                    \n",
    "                batch_labels[folder, int(t[folder + (batch*batch_size)].strip().split(';')[2])] = 1\n",
    "            yield batch_data, batch_labels #you yield the batch_data and the batch_labels, remember what does yield do\n",
    "\n",
    "        \n",
    "        # write the code for the remaining data points which are left after full batches\n",
    "        if len(folder_list)%batch_size != 0:\n",
    "            batch_size = len(folder_list) - num_batches*batch_size\n",
    "            batch_data = np.zeros((batch_size,x,y,z,3)) # x is the number of images you use for each video, (y,z) is the final size of the input images and 3 is the number of channels RGB\n",
    "            batch_labels = np.zeros((batch_size,5)) # batch_labels is the one hot representation of the output\n",
    "            for folder in range(batch_size): # iterate over the batch_size\n",
    "                imgs = os.listdir(source_path+'/'+ t[folder + (batch*batch_size)].split(';')[0]) # read all the images in the folder\n",
    "                for idx,item in enumerate(img_idx): #  Iterate iver the frames/images of a folder to read them in\n",
    "                    image = imread(source_path+'/'+ t[folder + (batch*batch_size)].strip().split(';')[0]+'/'+imgs[item]).astype(np.float32)\n",
    "                    no_rows,no_cols,no_chs=image.shape\n",
    "                    if (no_rows == 120 and no_cols == 160) or (no_rows == 360 and no_cols == 360):\n",
    "                        if no_rows == 120 and no_cols == 160:\n",
    "                            image = image[0:120,20:140]\n",
    "                        elif no_rows == 360 and no_cols == 360:\n",
    "                            image = imresize(image,(120,120))\n",
    "#                     print(\"image:\",len(image))\n",
    "#                     batch_data = np.zeros((batch_size,x,y,z,3)) # x is the number of images you use for each video, (y,z) is the final size of the input images and 3 is the number of channels RGB\n",
    "                    batch_data[folder,idx,:,:,0] = image[:, : , 0]/255#(image - np.min(image))/(np.max(image)-np.min(image))#normalise and feed in the image\n",
    "                    batch_data[folder,idx,:,:,1] = image[:, : , 1]/255#(image - np.min(image))/(np.max(image)-np.min(image))#normalise and feed in the image\n",
    "                    batch_data[folder,idx,:,:,2] = image[:, : , 2]/255#(image - np.min(image))/(np.max(image)-np.min(image))#normalise and feed in the image\n",
    "                    \n",
    "                batch_labels[folder, int(t[folder + (batch*batch_size)].strip().split(';')[2])] = 1\n",
    "            yield batch_data, batch_labels #you yield the batch_data and the batch_labels, remember what does yield do"
   ]
  },
  {
   "cell_type": "markdown",
   "metadata": {},
   "source": [
    "Note here that a video is represented above in the generator as (number of images, height, width, number of channels). Take this into consideration while creating the model architecture."
   ]
  },
  {
   "cell_type": "code",
   "execution_count": 7,
   "metadata": {},
   "outputs": [
    {
     "name": "stdout",
     "output_type": "stream",
     "text": [
      "# training sequences = 663\n",
      "# validation sequences = 100\n",
      "# epochs = 15\n"
     ]
    }
   ],
   "source": [
    "curr_dt_time = datetime.datetime.now()\n",
    "train_path = './Project_data/train'\n",
    "val_path = './Project_data/val'\n",
    "num_train_sequences = len(train_doc)\n",
    "print('# training sequences =', num_train_sequences)\n",
    "num_val_sequences = len(val_doc)\n",
    "print('# validation sequences =', num_val_sequences)\n",
    "num_epochs = 15 # choose the number of epochs\n",
    "print ('# epochs =', num_epochs)"
   ]
  },
  {
   "cell_type": "markdown",
   "metadata": {},
   "source": [
    "## Model\n",
    "Here you make the model using different functionalities that Keras provides. Remember to use `Conv3D` and `MaxPooling3D` and not `Conv2D` and `Maxpooling2D` for a 3D convolution model. You would want to use `TimeDistributed` while building a Conv2D + RNN model. Also remember that the last layer is the softmax. Design the network in such a way that the model is able to give good accuracy on the least number of parameters so that it can fit in the memory of the webcam."
   ]
  },
  {
   "cell_type": "code",
   "execution_count": 8,
   "metadata": {},
   "outputs": [],
   "source": [
    "from keras.models import Sequential, Model\n",
    "from keras.layers import Dense, GRU, Flatten, TimeDistributed, Flatten, BatchNormalization, Activation, Dropout\n",
    "from keras.layers.convolutional import Conv3D, MaxPooling3D\n",
    "from keras.callbacks import ModelCheckpoint, ReduceLROnPlateau\n",
    "from keras import optimizers\n",
    "\n",
    "#write your model here\n",
    "# using resnet 18\n",
    "# !pip install resnet\n",
    "# import resnet\n",
    "# from keras.applications import ResNet50\n",
    "# resnet = ResNet50(weights='imagenet', include_top=False)\n",
    "# model = resnet.ResnetBuilder.build_resnet_18((img_channels, img_rows, img_cols), nb_classes)\n",
    "# model.compile(loss='categorical_crossentropy', optimizer='SGD',\n",
    "#               metrics=['accuracy'])\n",
    "\n",
    "nb_filters = [8,16,32,64]\n",
    "nb_dense = [256, 128, 5]\n",
    "\n",
    "# Input\n",
    "# x,y,z = 30,250,250\n",
    "# x,y,z = 10,100,100\n",
    "input_shape=(x,y,z,3)\n",
    "\n",
    "# Define model\n",
    "model = Sequential()\n",
    "\n",
    "# model.add(Conv3D(32,strides=(1, 1, 1),padding='same', kernel_size=(3,3,1),activation='relu',input_shape=(len(img_idx), img_row, img_col, 3)))\n",
    "# model.add(MaxPooling3D(pool_size=(2, 2, 1)))\n",
    "# model.add(Flatten())\n",
    "# model.add(Dense(64, activation='relu'))\n",
    "# model.add(Dense(5, activation='softmax'))\n",
    "model.add(Conv3D(32,strides=(1, 1, 1),padding='same', kernel_size=(3,3,3),activation='relu',input_shape=(len(img_idx), img_row, img_col, 3)))\n",
    "model.add(Conv3D(32,strides=(1, 1, 1),padding='same', kernel_size=(3,3,3),activation='relu'))\n",
    "model.add(MaxPooling3D(pool_size=(3, 3, 3)))\n",
    "model.add(Conv3D(32,strides=(1, 1, 1),padding='same', kernel_size=(3,3,3),activation='relu'))\n",
    "model.add(Conv3D(32,strides=(1, 1, 1),padding='same', kernel_size=(3,3,3),activation='relu'))\n",
    "model.add(MaxPooling3D(pool_size=(3, 3, 3)))\n",
    "model.add(Flatten())\n",
    "model.add(Dense(128, activation='relu'))\n",
    "model.add(Dense(5, activation='softmax'))"
   ]
  },
  {
   "cell_type": "markdown",
   "metadata": {},
   "source": [
    "Now that you have written the model, the next step is to `compile` the model. When you print the `summary` of the model, you'll see the total number of parameters you have to train."
   ]
  },
  {
   "cell_type": "code",
   "execution_count": 9,
   "metadata": {
    "scrolled": true
   },
   "outputs": [
    {
     "name": "stdout",
     "output_type": "stream",
     "text": [
      "_________________________________________________________________\n",
      "Layer (type)                 Output Shape              Param #   \n",
      "=================================================================\n",
      "conv3d_1 (Conv3D)            (None, 15, 120, 120, 32)  2624      \n",
      "_________________________________________________________________\n",
      "conv3d_2 (Conv3D)            (None, 15, 120, 120, 32)  27680     \n",
      "_________________________________________________________________\n",
      "max_pooling3d_1 (MaxPooling3 (None, 5, 40, 40, 32)     0         \n",
      "_________________________________________________________________\n",
      "conv3d_3 (Conv3D)            (None, 5, 40, 40, 32)     27680     \n",
      "_________________________________________________________________\n",
      "conv3d_4 (Conv3D)            (None, 5, 40, 40, 32)     27680     \n",
      "_________________________________________________________________\n",
      "max_pooling3d_2 (MaxPooling3 (None, 1, 13, 13, 32)     0         \n",
      "_________________________________________________________________\n",
      "flatten_1 (Flatten)          (None, 5408)              0         \n",
      "_________________________________________________________________\n",
      "dense_1 (Dense)              (None, 128)               692352    \n",
      "_________________________________________________________________\n",
      "dense_2 (Dense)              (None, 5)                 645       \n",
      "=================================================================\n",
      "Total params: 778,661\n",
      "Trainable params: 778,661\n",
      "Non-trainable params: 0\n",
      "_________________________________________________________________\n",
      "None\n"
     ]
    }
   ],
   "source": [
    "optimiser = optimizers.Adam()#write your optimizer\n",
    "# optimiser = optimizers.SGD(lr=0.01)\n",
    "model.compile(optimizer=optimiser, loss='categorical_crossentropy', metrics=['categorical_accuracy'])\n",
    "print (model.summary())"
   ]
  },
  {
   "cell_type": "markdown",
   "metadata": {},
   "source": [
    "Let us create the `train_generator` and the `val_generator` which will be used in `.fit_generator`."
   ]
  },
  {
   "cell_type": "code",
   "execution_count": 10,
   "metadata": {},
   "outputs": [],
   "source": [
    "train_generator = generator(train_path, train_doc, batch_size)\n",
    "val_generator = generator(val_path, val_doc, batch_size)"
   ]
  },
  {
   "cell_type": "code",
   "execution_count": 11,
   "metadata": {},
   "outputs": [],
   "source": [
    "model_name = 'model_init' + '_' + str(curr_dt_time).replace(' ','').replace(':','_') + '/'\n",
    "    \n",
    "if not os.path.exists(model_name):\n",
    "    os.mkdir(model_name)\n",
    "        \n",
    "filepath = model_name + 'model-{epoch:05d}-{loss:.5f}-{categorical_accuracy:.5f}-{val_loss:.5f}-{val_categorical_accuracy:.5f}.h5'\n",
    "\n",
    "checkpoint = ModelCheckpoint(filepath, monitor='val_loss', verbose=1, save_best_only=False, save_weights_only=False, mode='auto', period=1)\n",
    "\n",
    "LR = ReduceLROnPlateau(monitor='val_loss', factor=0.5, patience=2, cooldown=1, verbose=1)# write the REducelronplateau code here\n",
    "callbacks_list = [checkpoint, LR]"
   ]
  },
  {
   "cell_type": "markdown",
   "metadata": {},
   "source": [
    "The `steps_per_epoch` and `validation_steps` are used by `fit_generator` to decide the number of next() calls it need to make."
   ]
  },
  {
   "cell_type": "code",
   "execution_count": 12,
   "metadata": {},
   "outputs": [],
   "source": [
    "if (num_train_sequences%batch_size) == 0:\n",
    "    steps_per_epoch = int(num_train_sequences/batch_size)\n",
    "else:\n",
    "    steps_per_epoch = (num_train_sequences//batch_size) + 1\n",
    "\n",
    "if (num_val_sequences%batch_size) == 0:\n",
    "    validation_steps = int(num_val_sequences/batch_size)\n",
    "else:\n",
    "    validation_steps = (num_val_sequences//batch_size) + 1"
   ]
  },
  {
   "cell_type": "code",
   "execution_count": 13,
   "metadata": {},
   "outputs": [
    {
     "name": "stdout",
     "output_type": "stream",
     "text": [
      "21 4 15\n"
     ]
    }
   ],
   "source": [
    "print(steps_per_epoch,validation_steps, num_epochs )"
   ]
  },
  {
   "cell_type": "markdown",
   "metadata": {},
   "source": [
    "Let us now fit the model. This will start training the model and with the help of the checkpoints, you'll be able to save the model at the end of each epoch."
   ]
  },
  {
   "cell_type": "code",
   "execution_count": 14,
   "metadata": {},
   "outputs": [
    {
     "name": "stdout",
     "output_type": "stream",
     "text": [
      "Epoch 1/15\n"
     ]
    },
    {
     "name": "stderr",
     "output_type": "stream",
     "text": [
      "/mnt/disks/user/anaconda3/lib/python3.6/site-packages/ipykernel_launcher.py:11: DeprecationWarning: `imread` is deprecated!\n",
      "`imread` is deprecated in SciPy 1.0.0, and will be removed in 1.2.0.\n",
      "Use ``imageio.imread`` instead.\n",
      "  # This is added back by InteractiveShellApp.init_path()\n",
      "/mnt/disks/user/anaconda3/lib/python3.6/site-packages/ipykernel_launcher.py:21: DeprecationWarning: `imresize` is deprecated!\n",
      "`imresize` is deprecated in SciPy 1.0.0, and will be removed in 1.2.0.\n",
      "Use ``skimage.transform.resize`` instead.\n",
      "/mnt/disks/user/anaconda3/lib/python3.6/site-packages/ipykernel_launcher.py:40: DeprecationWarning: `imread` is deprecated!\n",
      "`imread` is deprecated in SciPy 1.0.0, and will be removed in 1.2.0.\n",
      "Use ``imageio.imread`` instead.\n",
      "/mnt/disks/user/anaconda3/lib/python3.6/site-packages/ipykernel_launcher.py:46: DeprecationWarning: `imresize` is deprecated!\n",
      "`imresize` is deprecated in SciPy 1.0.0, and will be removed in 1.2.0.\n",
      "Use ``skimage.transform.resize`` instead.\n"
     ]
    },
    {
     "name": "stdout",
     "output_type": "stream",
     "text": [
      "21/21 [==============================] - 70s 3s/step - loss: 1.5950 - categorical_accuracy: 0.1839 - val_loss: 1.4726 - val_categorical_accuracy: 0.2000\n",
      "\n",
      "Epoch 00001: saving model to model_init_2019-09-2315_58_54.242568/model-00001-1.59592-0.18401-1.47261-0.20000.h5\n",
      "Epoch 2/15\n",
      "21/21 [==============================] - 38s 2s/step - loss: 1.4550 - categorical_accuracy: 0.3437 - val_loss: 1.4012 - val_categorical_accuracy: 0.4375\n",
      "\n",
      "Epoch 00002: saving model to model_init_2019-09-2315_58_54.242568/model-00002-1.45500-0.34369-1.40118-0.43750.h5\n",
      "Epoch 3/15\n",
      "21/21 [==============================] - 39s 2s/step - loss: 1.2432 - categorical_accuracy: 0.4748 - val_loss: 1.4663 - val_categorical_accuracy: 0.4375\n",
      "\n",
      "Epoch 00003: saving model to model_init_2019-09-2315_58_54.242568/model-00003-1.24882-0.47541-1.46633-0.43750.h5\n",
      "Epoch 4/15\n",
      "21/21 [==============================] - 32s 2s/step - loss: 1.2694 - categorical_accuracy: 0.4536 - val_loss: 1.2507 - val_categorical_accuracy: 0.5000\n",
      "\n",
      "Epoch 00004: saving model to model_init_2019-09-2315_58_54.242568/model-00004-1.26944-0.45363-1.25070-0.50000.h5\n",
      "Epoch 5/15\n",
      "21/21 [==============================] - 35s 2s/step - loss: 1.1240 - categorical_accuracy: 0.5098 - val_loss: 1.1121 - val_categorical_accuracy: 0.6250\n",
      "\n",
      "Epoch 00005: saving model to model_init_2019-09-2315_58_54.242568/model-00005-1.12401-0.50980-1.11208-0.62500.h5\n",
      "Epoch 6/15\n",
      "21/21 [==============================] - 31s 1s/step - loss: 1.1422 - categorical_accuracy: 0.5210 - val_loss: 1.0304 - val_categorical_accuracy: 0.5000\n",
      "\n",
      "Epoch 00006: saving model to model_init_2019-09-2315_58_54.242568/model-00006-1.14220-0.52101-1.03038-0.50000.h5\n",
      "Epoch 7/15\n",
      "21/21 [==============================] - 31s 1s/step - loss: 1.0923 - categorical_accuracy: 0.4958 - val_loss: 0.8927 - val_categorical_accuracy: 0.6875\n",
      "\n",
      "Epoch 00007: saving model to model_init_2019-09-2315_58_54.242568/model-00007-1.09231-0.49580-0.89270-0.68750.h5\n",
      "Epoch 8/15\n",
      "21/21 [==============================] - 30s 1s/step - loss: 0.9808 - categorical_accuracy: 0.5938 - val_loss: 0.9073 - val_categorical_accuracy: 0.5625\n",
      "\n",
      "Epoch 00008: saving model to model_init_2019-09-2315_58_54.242568/model-00008-0.98082-0.59384-0.90733-0.56250.h5\n",
      "Epoch 9/15\n",
      "21/21 [==============================] - 30s 1s/step - loss: 0.7877 - categorical_accuracy: 0.6863 - val_loss: 1.6056 - val_categorical_accuracy: 0.5000\n",
      "\n",
      "Epoch 00009: saving model to model_init_2019-09-2315_58_54.242568/model-00009-0.78770-0.68627-1.60556-0.50000.h5\n",
      "\n",
      "Epoch 00009: ReduceLROnPlateau reducing learning rate to 0.0005000000237487257.\n",
      "Epoch 10/15\n",
      "21/21 [==============================] - 31s 1s/step - loss: 0.7233 - categorical_accuracy: 0.7395 - val_loss: 0.7114 - val_categorical_accuracy: 0.6875\n",
      "\n",
      "Epoch 00010: saving model to model_init_2019-09-2315_58_54.242568/model-00010-0.72327-0.73950-0.71142-0.68750.h5\n",
      "Epoch 11/15\n",
      "21/21 [==============================] - 31s 1s/step - loss: 0.5766 - categorical_accuracy: 0.7927 - val_loss: 1.1281 - val_categorical_accuracy: 0.6875\n",
      "\n",
      "Epoch 00011: saving model to model_init_2019-09-2315_58_54.242568/model-00011-0.57661-0.79272-1.12811-0.68750.h5\n",
      "Epoch 12/15\n",
      "21/21 [==============================] - 31s 1s/step - loss: 0.4335 - categorical_accuracy: 0.8431 - val_loss: 0.2175 - val_categorical_accuracy: 0.9375\n",
      "\n",
      "Epoch 00012: saving model to model_init_2019-09-2315_58_54.242568/model-00012-0.43351-0.84314-0.21753-0.93750.h5\n",
      "Epoch 13/15\n",
      "21/21 [==============================] - 30s 1s/step - loss: 0.4196 - categorical_accuracy: 0.8235 - val_loss: 1.2044 - val_categorical_accuracy: 0.6250\n",
      "\n",
      "Epoch 00013: saving model to model_init_2019-09-2315_58_54.242568/model-00013-0.41955-0.82353-1.20444-0.62500.h5\n",
      "Epoch 14/15\n",
      "21/21 [==============================] - 30s 1s/step - loss: 0.3868 - categorical_accuracy: 0.8683 - val_loss: 0.5419 - val_categorical_accuracy: 0.8125\n",
      "\n",
      "Epoch 00014: saving model to model_init_2019-09-2315_58_54.242568/model-00014-0.38683-0.86835-0.54191-0.81250.h5\n",
      "\n",
      "Epoch 00014: ReduceLROnPlateau reducing learning rate to 0.0002500000118743628.\n",
      "Epoch 15/15\n",
      "21/21 [==============================] - 29s 1s/step - loss: 0.2544 - categorical_accuracy: 0.9188 - val_loss: 0.6194 - val_categorical_accuracy: 0.6875\n",
      "\n",
      "Epoch 00015: saving model to model_init_2019-09-2315_58_54.242568/model-00015-0.25442-0.91877-0.61937-0.68750.h5\n"
     ]
    },
    {
     "data": {
      "text/plain": [
       "<keras.callbacks.History at 0x7fac0daeaef0>"
      ]
     },
     "execution_count": 14,
     "metadata": {},
     "output_type": "execute_result"
    }
   ],
   "source": [
    "model.fit_generator(train_generator, steps_per_epoch=steps_per_epoch, epochs=num_epochs, verbose=1, \n",
    "                    callbacks=callbacks_list, validation_data=val_generator, \n",
    "                    validation_steps=validation_steps, class_weight=None, workers=1, initial_epoch=0)"
   ]
  },
  {
   "cell_type": "code",
   "execution_count": 15,
   "metadata": {},
   "outputs": [
    {
     "name": "stdout",
     "output_type": "stream",
     "text": [
      "_________________________________________________________________\n",
      "Layer (type)                 Output Shape              Param #   \n",
      "=================================================================\n",
      "conv3d_1 (Conv3D)            (None, 15, 120, 120, 32)  2624      \n",
      "_________________________________________________________________\n",
      "conv3d_2 (Conv3D)            (None, 15, 120, 120, 32)  27680     \n",
      "_________________________________________________________________\n",
      "max_pooling3d_1 (MaxPooling3 (None, 5, 40, 40, 32)     0         \n",
      "_________________________________________________________________\n",
      "conv3d_3 (Conv3D)            (None, 5, 40, 40, 32)     27680     \n",
      "_________________________________________________________________\n",
      "conv3d_4 (Conv3D)            (None, 5, 40, 40, 32)     27680     \n",
      "_________________________________________________________________\n",
      "max_pooling3d_2 (MaxPooling3 (None, 1, 13, 13, 32)     0         \n",
      "_________________________________________________________________\n",
      "flatten_1 (Flatten)          (None, 5408)              0         \n",
      "_________________________________________________________________\n",
      "dense_1 (Dense)              (None, 128)               692352    \n",
      "_________________________________________________________________\n",
      "dense_2 (Dense)              (None, 5)                 645       \n",
      "=================================================================\n",
      "Total params: 778,661\n",
      "Trainable params: 778,661\n",
      "Non-trainable params: 0\n",
      "_________________________________________________________________\n"
     ]
    }
   ],
   "source": [
    "model.summary()"
   ]
  },
  {
   "cell_type": "code",
   "execution_count": null,
   "metadata": {},
   "outputs": [],
   "source": []
  },
  {
   "cell_type": "code",
   "execution_count": null,
   "metadata": {},
   "outputs": [],
   "source": []
  }
 ],
 "metadata": {
  "kernelspec": {
   "display_name": "Python 3",
   "language": "python",
   "name": "python3"
  },
  "language_info": {
   "codemirror_mode": {
    "name": "ipython",
    "version": 3
   },
   "file_extension": ".py",
   "mimetype": "text/x-python",
   "name": "python",
   "nbconvert_exporter": "python",
   "pygments_lexer": "ipython3",
   "version": "3.6.8"
  }
 },
 "nbformat": 4,
 "nbformat_minor": 2
}
